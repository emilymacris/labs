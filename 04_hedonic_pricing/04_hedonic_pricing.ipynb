{
  "cells": [
    {
      "cell_type": "markdown",
      "metadata": {
        "vscode": {
          "languageId": "bat"
        },
        "id": "I5IZ3KK8VjJ2"
      },
      "source": [
        "# Hedonic Pricing\n",
        "\n",
        "We often try to predict the price of an asset from its observable characteristics. This is generally called **hedonic pricing**: How do the unit's characteristics determine its market price?\n",
        "\n",
        "In the lab folder, there are three options: housing prices in pierce_county_house_sales.csv, car prices in cars_hw.csv, and airbnb rental prices in airbnb_hw.csv. If you know of another suitable dataset, please feel free to use that one.\n",
        "\n",
        "1. Clean the data and perform some EDA and visualization to get to know the data set.\n",
        "2. Transform your variables --- particularly categorical ones --- for use in your regression analysis.\n",
        "3. Implement an ~80/~20 train-test split. Put the test data aside.\n",
        "4. Build some simple linear models that include no transformations or interactions. Fit them, and determine their RMSE and $R^2$ on the both the training and test sets. Which of your models does the best?\n",
        "5. Include transformations and interactions, and build a more complex model that reflects your ideas about how the features of the asset determine its value. Determine its RMSE and $R^2$ on the training and test sets. How does the more complex model your build compare to the simpler ones?\n",
        "6. Summarize your results from 1 to 5. Have you learned anything about overfitting and underfitting, or model selection?\n",
        "7. If you have time, use the sklearn.linear_model.Lasso to regularize your model and select the most predictive features. Which does it select? What are the RMSE and $R^2$? We'll cover the Lasso later in detail in class.\n",
        "\n"
      ]
    },
    {
      "cell_type": "code",
      "source": [
        "! git clone https://github.com/emilymacris/labs.git\n"
      ],
      "metadata": {
        "id": "gpKJ41PxVyF4",
        "outputId": "8e0d43ca-b6fc-4309-9cba-f10291316b88",
        "colab": {
          "base_uri": "https://localhost:8080/"
        }
      },
      "execution_count": 6,
      "outputs": [
        {
          "output_type": "stream",
          "name": "stdout",
          "text": [
            "Cloning into 'labs'...\n",
            "remote: Enumerating objects: 103, done.\u001b[K\n",
            "remote: Counting objects: 100% (71/71), done.\u001b[K\n",
            "remote: Compressing objects: 100% (49/49), done.\u001b[K\n",
            "remote: Total 103 (delta 39), reused 41 (delta 22), pack-reused 32 (from 1)\u001b[K\n",
            "Receiving objects: 100% (103/103), 20.87 MiB | 25.08 MiB/s, done.\n",
            "Resolving deltas: 100% (41/41), done.\n"
          ]
        }
      ]
    },
    {
      "cell_type": "code",
      "source": [
        "import pandas as pd\n",
        "import numpy as np\n",
        "\n",
        "\n"
      ],
      "metadata": {
        "id": "ONqPr02gVrnh"
      },
      "execution_count": 1,
      "outputs": []
    },
    {
      "cell_type": "code",
      "source": [
        "airbnb_df = pd.read_csv(\"./labs/04_hedonic_pricing/airbnb_hw.csv\")\n"
      ],
      "metadata": {
        "id": "qh0-R8YMWgvt"
      },
      "execution_count": 7,
      "outputs": []
    },
    {
      "cell_type": "code",
      "source": [
        "airbnb_df.columns = airbnb_df.columns.str.lower().str.replace(' ', '_')\n",
        "\n",
        "airbnb_df['host_since'] = pd.to_datetime(airbnb_df['host_since'], errors='coerce')\n",
        "\n",
        "# Replace inplace=True with direct assignment\n",
        "airbnb_df['property_type'] = airbnb_df['property_type'].fillna('Unknown')\n",
        "\n",
        "# Replace inplace=True with direct assignment\n",
        "airbnb_df['zipcode'] = airbnb_df['zipcode'].fillna(-1)\n",
        "\n",
        "# Replace inplace=True with direct assignment\n",
        "airbnb_df['beds'] = airbnb_df['beds'].fillna(airbnb_df['beds'].median())\n",
        "\n",
        "airbnb_df.dropna(subset=['review_scores_rating', 'review_scores_rating_(bin)'], inplace=True)\n",
        "\n",
        "airbnb_df['price'] = airbnb_df['price'].replace('[\\$,]', '', regex=True).astype(float)\n",
        "\n",
        "airbnb_df.info(), airbnb_df.head()"
      ],
      "metadata": {
        "id": "otbQBvrzVter",
        "outputId": "5deca262-9cce-4046-ae16-7c4d3730fd59",
        "colab": {
          "base_uri": "https://localhost:8080/"
        }
      },
      "execution_count": 10,
      "outputs": [
        {
          "output_type": "stream",
          "name": "stdout",
          "text": [
            "<class 'pandas.core.frame.DataFrame'>\n",
            "Index: 22155 entries, 4 to 30409\n",
            "Data columns (total 13 columns):\n",
            " #   Column                      Non-Null Count  Dtype         \n",
            "---  ------                      --------------  -----         \n",
            " 0   host_id                     22155 non-null  int64         \n",
            " 1   host_since                  22155 non-null  datetime64[ns]\n",
            " 2   name                        22155 non-null  object        \n",
            " 3   neighbourhood_              22155 non-null  object        \n",
            " 4   property_type               22155 non-null  object        \n",
            " 5   review_scores_rating_(bin)  22155 non-null  float64       \n",
            " 6   room_type                   22155 non-null  object        \n",
            " 7   zipcode                     22155 non-null  float64       \n",
            " 8   beds                        22155 non-null  float64       \n",
            " 9   number_of_records           22155 non-null  int64         \n",
            " 10  number_of_reviews           22155 non-null  int64         \n",
            " 11  price                       22155 non-null  float64       \n",
            " 12  review_scores_rating        22155 non-null  float64       \n",
            "dtypes: datetime64[ns](1), float64(5), int64(3), object(4)\n",
            "memory usage: 2.4+ MB\n"
          ]
        },
        {
          "output_type": "execute_result",
          "data": {
            "text/plain": [
              "(None,\n",
              "    host_id host_since                                 name neighbourhood_  \\\n",
              " 4      500 2008-06-26             Trendy Times Square Loft      Manhattan   \n",
              " 5     1039 2008-07-25   Big Greenpoint 1BD w/ Skyline View       Brooklyn   \n",
              " 6     1783 2008-08-12                         Amazing Also      Manhattan   \n",
              " 7     2078 2008-08-15  Colorful, quiet, & near the subway!       Brooklyn   \n",
              " 8     2339 2008-08-20  East Village Cocoon: 2 Bedroom Flat      Manhattan   \n",
              " \n",
              "   property_type  review_scores_rating_(bin)        room_type  zipcode  beds  \\\n",
              " 4     Apartment                        95.0     Private room  10036.0   3.0   \n",
              " 5     Apartment                       100.0  Entire home/apt  11222.0   1.0   \n",
              " 6     Apartment                       100.0  Entire home/apt  10004.0   1.0   \n",
              " 7     Apartment                        90.0     Private room  11201.0   1.0   \n",
              " 8     Apartment                        90.0  Entire home/apt  10009.0   2.0   \n",
              " \n",
              "    number_of_records  number_of_reviews  price  review_scores_rating  \n",
              " 4                  1                 39  549.0                  96.0  \n",
              " 5                  1                  4  149.0                 100.0  \n",
              " 6                  1                  9  250.0                 100.0  \n",
              " 7                  1                 80   90.0                  94.0  \n",
              " 8                  1                 95  270.0                  90.0  )"
            ]
          },
          "metadata": {},
          "execution_count": 10
        }
      ]
    },
    {
      "cell_type": "code",
      "source": [
        "from sklearn.preprocessing import StandardScaler\n",
        "\n",
        "airbnb_encoded = pd.get_dummies(airbnb_df, columns=['property_type', 'room_type', 'neighbourhood_'], drop_first=True)\n",
        "\n",
        "scaler = StandardScaler()\n",
        "continuous_columns = ['price', 'beds', 'review_scores_rating', 'review_scores_rating_(bin)', 'number_of_reviews', 'number_of_records']\n",
        "airbnb_encoded[continuous_columns] = scaler.fit_transform(airbnb_encoded[continuous_columns])\n",
        "\n",
        "\n",
        "airbnb_encoded.info(), airbnb_encoded.head()"
      ],
      "metadata": {
        "id": "-cjlBk9UXTjK",
        "outputId": "66111ab4-8627-4e27-929a-e82d2552f716",
        "colab": {
          "base_uri": "https://localhost:8080/"
        }
      },
      "execution_count": 11,
      "outputs": [
        {
          "output_type": "stream",
          "name": "stdout",
          "text": [
            "<class 'pandas.core.frame.DataFrame'>\n",
            "Index: 22155 entries, 4 to 30409\n",
            "Data columns (total 34 columns):\n",
            " #   Column                         Non-Null Count  Dtype         \n",
            "---  ------                         --------------  -----         \n",
            " 0   host_id                        22155 non-null  int64         \n",
            " 1   host_since                     22155 non-null  datetime64[ns]\n",
            " 2   name                           22155 non-null  object        \n",
            " 3   review_scores_rating_(bin)     22155 non-null  float64       \n",
            " 4   zipcode                        22155 non-null  float64       \n",
            " 5   beds                           22155 non-null  float64       \n",
            " 6   number_of_records              22155 non-null  float64       \n",
            " 7   number_of_reviews              22155 non-null  float64       \n",
            " 8   price                          22155 non-null  float64       \n",
            " 9   review_scores_rating           22155 non-null  float64       \n",
            " 10  property_type_Bed & Breakfast  22155 non-null  bool          \n",
            " 11  property_type_Boat             22155 non-null  bool          \n",
            " 12  property_type_Bungalow         22155 non-null  bool          \n",
            " 13  property_type_Cabin            22155 non-null  bool          \n",
            " 14  property_type_Camper/RV        22155 non-null  bool          \n",
            " 15  property_type_Castle           22155 non-null  bool          \n",
            " 16  property_type_Chalet           22155 non-null  bool          \n",
            " 17  property_type_Condominium      22155 non-null  bool          \n",
            " 18  property_type_Dorm             22155 non-null  bool          \n",
            " 19  property_type_House            22155 non-null  bool          \n",
            " 20  property_type_Hut              22155 non-null  bool          \n",
            " 21  property_type_Lighthouse       22155 non-null  bool          \n",
            " 22  property_type_Loft             22155 non-null  bool          \n",
            " 23  property_type_Other            22155 non-null  bool          \n",
            " 24  property_type_Townhouse        22155 non-null  bool          \n",
            " 25  property_type_Treehouse        22155 non-null  bool          \n",
            " 26  property_type_Unknown          22155 non-null  bool          \n",
            " 27  property_type_Villa            22155 non-null  bool          \n",
            " 28  room_type_Private room         22155 non-null  bool          \n",
            " 29  room_type_Shared room          22155 non-null  bool          \n",
            " 30  neighbourhood__Brooklyn        22155 non-null  bool          \n",
            " 31  neighbourhood__Manhattan       22155 non-null  bool          \n",
            " 32  neighbourhood__Queens          22155 non-null  bool          \n",
            " 33  neighbourhood__Staten Island   22155 non-null  bool          \n",
            "dtypes: bool(24), datetime64[ns](1), float64(7), int64(1), object(1)\n",
            "memory usage: 2.4+ MB\n"
          ]
        },
        {
          "output_type": "execute_result",
          "data": {
            "text/plain": [
              "(None,\n",
              "    host_id host_since                                 name  \\\n",
              " 4      500 2008-06-26             Trendy Times Square Loft   \n",
              " 5     1039 2008-07-25   Big Greenpoint 1BD w/ Skyline View   \n",
              " 6     1783 2008-08-12                         Amazing Also   \n",
              " 7     2078 2008-08-15  Colorful, quiet, & near the subway!   \n",
              " 8     2339 2008-08-20  East Village Cocoon: 2 Bedroom Flat   \n",
              " \n",
              "    review_scores_rating_(bin)  zipcode      beds  number_of_records  \\\n",
              " 4                    0.470382  10036.0  1.383193                0.0   \n",
              " 5                    1.022300  11222.0 -0.533894                0.0   \n",
              " 6                    1.022300  10004.0 -0.533894                0.0   \n",
              " 7                   -0.081536  11201.0 -0.533894                0.0   \n",
              " 8                   -0.081536  10009.0  0.424649                0.0   \n",
              " \n",
              "    number_of_reviews     price  review_scores_rating  ...  \\\n",
              " 4           0.925409  2.648685              0.452734  ...   \n",
              " 5          -0.514464 -0.038887              0.904702  ...   \n",
              " 6          -0.308768  0.639725              0.904702  ...   \n",
              " 7           2.612118 -0.435303              0.226749  ...   \n",
              " 8           3.229207  0.774104             -0.225219  ...   \n",
              " \n",
              "    property_type_Townhouse  property_type_Treehouse  property_type_Unknown  \\\n",
              " 4                    False                    False                  False   \n",
              " 5                    False                    False                  False   \n",
              " 6                    False                    False                  False   \n",
              " 7                    False                    False                  False   \n",
              " 8                    False                    False                  False   \n",
              " \n",
              "    property_type_Villa  room_type_Private room  room_type_Shared room  \\\n",
              " 4                False                    True                  False   \n",
              " 5                False                   False                  False   \n",
              " 6                False                   False                  False   \n",
              " 7                False                    True                  False   \n",
              " 8                False                   False                  False   \n",
              " \n",
              "    neighbourhood__Brooklyn  neighbourhood__Manhattan  neighbourhood__Queens  \\\n",
              " 4                    False                      True                  False   \n",
              " 5                     True                     False                  False   \n",
              " 6                    False                      True                  False   \n",
              " 7                     True                     False                  False   \n",
              " 8                    False                      True                  False   \n",
              " \n",
              "    neighbourhood__Staten Island  \n",
              " 4                         False  \n",
              " 5                         False  \n",
              " 6                         False  \n",
              " 7                         False  \n",
              " 8                         False  \n",
              " \n",
              " [5 rows x 34 columns])"
            ]
          },
          "metadata": {},
          "execution_count": 11
        }
      ]
    },
    {
      "cell_type": "code",
      "source": [
        "from sklearn.model_selection import train_test_split\n",
        "\n",
        "X = airbnb_encoded.drop(columns=['price'])\n",
        "y = airbnb_encoded['price']\n",
        "\n",
        "X_train, X_test, y_train, y_test = train_test_split(X, y, test_size=0.2, random_state=42)\n",
        "\n",
        "X_train.shape, X_test.shape, y_train.shape, y_test.shape"
      ],
      "metadata": {
        "id": "jRWZns3mXdLn",
        "outputId": "966e4cb0-12de-4c52-a2f9-77664cdcf70b",
        "colab": {
          "base_uri": "https://localhost:8080/"
        }
      },
      "execution_count": 12,
      "outputs": [
        {
          "output_type": "execute_result",
          "data": {
            "text/plain": [
              "((17724, 33), (4431, 33), (17724,), (4431,))"
            ]
          },
          "metadata": {},
          "execution_count": 12
        }
      ]
    },
    {
      "cell_type": "code",
      "source": [
        "from sklearn.linear_model import LinearRegression\n",
        "from sklearn.metrics import mean_squared_error, r2_score\n",
        "\n",
        "\n",
        "feature_columns = ['beds', 'review_scores_rating', 'number_of_reviews', 'review_scores_rating_(bin)']\n",
        "\n",
        "\n",
        "results = {}\n",
        "\n",
        "# Loop over each feature, fit a model, and evaluate performance\n",
        "for feature in feature_columns:\n",
        "    #Reshape to be 2D array for a single feature\n",
        "    X_train_feature = X_train[[feature]]\n",
        "    X_test_feature = X_test[[feature]]\n",
        "\n",
        "    #Initialize and fit the model\n",
        "    model = LinearRegression()\n",
        "    model.fit(X_train_feature, y_train)\n",
        "\n",
        "    #Predict on training and test data\n",
        "    y_train_pred = model.predict(X_train_feature)\n",
        "    y_test_pred = model.predict(X_test_feature)\n",
        "\n",
        "    # Calculate RMSE and R^2 for both training and test sets\n",
        "    rmse_train = np.sqrt(mean_squared_error(y_train, y_train_pred))\n",
        "    r2_train = r2_score(y_train, y_train_pred)\n",
        "    rmse_test = np.sqrt(mean_squared_error(y_test, y_test_pred))\n",
        "    r2_test = r2_score(y_test, y_test_pred)\n",
        "\n",
        "    #Store results for this model\n",
        "    results[feature] = {\n",
        "        'RMSE_train': rmse_train,\n",
        "        'R2_train': r2_train,\n",
        "        'RMSE_test': rmse_test,\n",
        "        'R2_test': r2_test\n",
        "    }\n",
        "\n",
        "results"
      ],
      "metadata": {
        "id": "78DwkAFOXgsj",
        "outputId": "4d29069d-1345-4e98-905b-966e4a7ecd9f",
        "colab": {
          "base_uri": "https://localhost:8080/"
        }
      },
      "execution_count": 13,
      "outputs": [
        {
          "output_type": "execute_result",
          "data": {
            "text/plain": [
              "{'beds': {'RMSE_train': 0.9768387601151115,\n",
              "  'R2_train': 0.12845612289579544,\n",
              "  'RMSE_test': 0.7117091656687948,\n",
              "  'R2_test': 0.1837183954914825},\n",
              " 'review_scores_rating': {'RMSE_train': 1.0445596006100517,\n",
              "  'R2_train': 0.003425113450262307,\n",
              "  'RMSE_test': 0.7856034619682374,\n",
              "  'R2_test': 0.005415540721233625},\n",
              " 'number_of_reviews': {'RMSE_train': 1.0459720821580534,\n",
              "  'R2_train': 0.000728100538028742,\n",
              "  'RMSE_test': 0.7875091247029067,\n",
              "  'R2_test': 0.000584499545755901},\n",
              " 'review_scores_rating_(bin)': {'RMSE_train': 1.0446168001564435,\n",
              "  'R2_train': 0.0033159666056636894,\n",
              "  'RMSE_test': 0.7856678312195158,\n",
              "  'R2_test': 0.005252549383041982}}"
            ]
          },
          "metadata": {},
          "execution_count": 13
        }
      ]
    },
    {
      "cell_type": "code",
      "source": [
        "from sklearn.preprocessing import PolynomialFeatures\n",
        "from sklearn.pipeline import Pipeline\n",
        "from sklearn.linear_model import LinearRegression\n",
        "from sklearn.metrics import mean_squared_error, r2_score\n",
        "import numpy as np\n",
        "\n",
        "#Select features for transformations and interactions\n",
        "selected_features = ['beds', 'review_scores_rating', 'number_of_reviews']\n",
        "\n",
        "#Create a pipeline with PolynomialFeatures (degree 2 for interactions) and Linear Regression\n",
        "pipeline = Pipeline([\n",
        "    ('poly_features', PolynomialFeatures(degree=2, include_bias=False)),\n",
        "    ('linear_regression', LinearRegression())\n",
        "])\n",
        "\n",
        "#Fit the model on the selected features\n",
        "X_train_selected = X_train[selected_features]\n",
        "X_test_selected = X_test[selected_features]\n",
        "\n",
        "pipeline.fit(X_train_selected, y_train)\n",
        "\n",
        "#Predict on training and test data\n",
        "y_train_pred_complex = pipeline.predict(X_train_selected)\n",
        "y_test_pred_complex = pipeline.predict(X_test_selected)\n",
        "\n",
        "#Calculate RMSE and R^2 for both training and test sets\n",
        "rmse_train_complex = np.sqrt(mean_squared_error(y_train, y_train_pred_complex))\n",
        "r2_train_complex = r2_score(y_train, y_train_pred_complex)\n",
        "rmse_test_complex = np.sqrt(mean_squared_error(y_test, y_test_pred_complex))\n",
        "r2_test_complex = r2_score(y_test, y_test_pred_complex)\n",
        "\n",
        "#Display complex model performance\n",
        "complex_model_performance = {\n",
        "    'RMSE_train': rmse_train_complex,\n",
        "    'R2_train': r2_train_complex,\n",
        "    'RMSE_test': rmse_test_complex,\n",
        "    'R2_test': r2_test_complex\n",
        "}\n",
        "\n",
        "complex_model_performance"
      ],
      "metadata": {
        "id": "q4efmF3dXjP0",
        "outputId": "e8dc3a42-247f-487a-efa2-9f88dac7e739",
        "colab": {
          "base_uri": "https://localhost:8080/"
        }
      },
      "execution_count": 14,
      "outputs": [
        {
          "output_type": "execute_result",
          "data": {
            "text/plain": [
              "{'RMSE_train': 0.9688558795296899,\n",
              " 'R2_train': 0.14264270591788453,\n",
              " 'RMSE_test': 0.7031505924011576,\n",
              " 'R2_test': 0.20323254639249289}"
            ]
          },
          "metadata": {},
          "execution_count": 14
        }
      ]
    },
    {
      "cell_type": "markdown",
      "source": [
        "We started with simple models using single features, but they performed poorly due to underfitting. This means they missed important patterns and had high errors (RMSE) and low accuracy (R²).\n",
        "\n",
        "We then built a more complex model with extra features and interactions. It did better on the training data, but we needed to check if it overfit, meaning it memorized the training data too well and wouldn't work on new data.\n",
        "\n",
        "Simple models were underfit, and complex ones risked overfitting. The best model finds a balance, capturing real patterns without memorizing the training data.\n",
        "\n",
        "This taught me that picking a good model means finding a balance between being too simple and too complex, aiming for accuracy and reliability.\n",
        "\n"
      ],
      "metadata": {
        "id": "ew7yIs4gXsWq"
      }
    }
  ],
  "metadata": {
    "kernelspec": {
      "display_name": "base",
      "language": "python",
      "name": "python3"
    },
    "language_info": {
      "codemirror_mode": {
        "name": "ipython",
        "version": 3
      },
      "file_extension": ".py",
      "mimetype": "text/x-python",
      "name": "python",
      "nbconvert_exporter": "python",
      "pygments_lexer": "ipython3",
      "version": "3.12.2"
    },
    "colab": {
      "provenance": []
    }
  },
  "nbformat": 4,
  "nbformat_minor": 0
}